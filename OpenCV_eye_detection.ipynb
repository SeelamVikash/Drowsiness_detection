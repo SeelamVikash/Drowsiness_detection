{
 "cells": [
  {
   "cell_type": "code",
   "execution_count": 1,
   "metadata": {},
   "outputs": [],
   "source": [
    "import numpy as np\n",
    "import cv2\n",
    "import tensorflow as tf\n",
    "import h5py\n",
    "import winsound\n",
    "\n",
    "face_cascade = cv2.CascadeClassifier('C:\\\\Users\\\\vvikk\\\\anaconda3\\\\Lib\\\\site-packages\\\\cv2\\\\data\\\\haarcascade_frontalface_default.xml')\n",
    "eye_cascade = cv2.CascadeClassifier('C:\\\\Users\\\\vvikk\\\\anaconda3\\\\Lib\\\\site-packages\\\\cv2\\\\data\\\\haarcascade_eye.xml')"
   ]
  },
  {
   "cell_type": "code",
   "execution_count": 2,
   "metadata": {},
   "outputs": [],
   "source": [
    "def face_detect(frame):\n",
    "    gray = cv2.cvtColor(frame, cv2.COLOR_BGR2GRAY)\n",
    "    faces = face_cascade.detectMultiScale(gray, 1.1, 5)\n",
    "    if len(faces)==0:\n",
    "        eyes = 0\n",
    "        faces = 0\n",
    "        pred = 1\n",
    "        return frame,eyes,faces,pred\n",
    "    for (x,y,w,h) in faces:                                                       \n",
    "        img = cv2.rectangle(frame,(x,y),(x+w,y+h),(255,0,0),2)          \n",
    "        roi_gray = gray[y:y+h, x:x+w] \n",
    "        roi_color = img[y:y+h, x:x+w]                                   \n",
    "        eyes = eye_cascade.detectMultiScale(roi_gray,1.1, 5)\n",
    "        if len(eyes)==0:\n",
    "            eyes = 0\n",
    "            pred = 1\n",
    "            return frame,eyes,faces,pred\n",
    "        for (ex,ey,ew,eh) in eyes: \n",
    "            detected = cv2.rectangle(roi_color,(ex,ey),(ex+ew,ey+eh),(0,255,0),2)\n",
    "            gray = cv2.cvtColor(roi_color, cv2.COLOR_BGR2GRAY)\n",
    "            pred_img = cv2.resize(gray[ey:ey+eh,ex:ex+ew],(50,50))\n",
    "            trail = np.expand_dims(pred_img,axis=-1)\n",
    "            pred = model.predict(np.array([trail]))\n",
    "            pred+=tmp\n",
    "            \n",
    "    return frame,eyes,faces,pred"
   ]
  },
  {
   "cell_type": "code",
   "execution_count": 3,
   "metadata": {
    "scrolled": true
   },
   "outputs": [],
   "source": [
    "model = tf.keras.models.load_model('close_open2.h5')\n",
    "cap = cv2.VideoCapture(0)\n",
    "detect = 0\n",
    "\n",
    "while(True):\n",
    "    tmp = 0\n",
    "    # Capture frame-by-frame\n",
    "    ret, frame = cap.read()\n",
    "\n",
    "    # Our operations on the frame come here\n",
    "    frame,eyes,faces,pred = face_detect(frame)\n",
    "    \n",
    "    try:\n",
    "        for fx,fy,fw,fh in faces:\n",
    "            if pred <0.5:\n",
    "                cv2.putText(frame, 'eyes_close', (fx, fy-10), cv2.FONT_HERSHEY_SIMPLEX, 0.9, (0,0,255), 2)\n",
    "                detect += 1\n",
    "                if detect == 10:\n",
    "                    winsound.PlaySound(\"sleep.wav\", winsound.SND_ASYNC|winsound.SND_ALIAS)\n",
    "            else:\n",
    "                detect = 0\n",
    "    except:\n",
    "        pass\n",
    "\n",
    "    # Display the resulting frame\n",
    "    cv2.imshow('frame',frame)\n",
    "    if cv2.waitKey(1) & 0xFF == ord('q'):\n",
    "        break\n",
    "\n",
    "# When everything done, release the capture\n",
    "cap.release()\n",
    "cv2.destroyAllWindows()"
   ]
  },
  {
   "cell_type": "code",
   "execution_count": null,
   "metadata": {},
   "outputs": [],
   "source": []
  }
 ],
 "metadata": {
  "kernelspec": {
   "display_name": "Python 3",
   "language": "python",
   "name": "python3"
  },
  "language_info": {
   "codemirror_mode": {
    "name": "ipython",
    "version": 3
   },
   "file_extension": ".py",
   "mimetype": "text/x-python",
   "name": "python",
   "nbconvert_exporter": "python",
   "pygments_lexer": "ipython3",
   "version": "3.8.3"
  }
 },
 "nbformat": 4,
 "nbformat_minor": 4
}

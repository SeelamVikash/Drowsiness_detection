{
 "cells": [
  {
   "cell_type": "code",
   "execution_count": 3,
   "metadata": {},
   "outputs": [],
   "source": [
    "import os\n",
    "import shutil\n",
    "import tensorflow as tf\n",
    "import numpy as np\n",
    "import matplotlib.image as mpimg\n",
    "from tensorflow.keras.optimizers import RMSprop\n",
    "from tensorflow.keras.preprocessing.image import ImageDataGenerator"
   ]
  },
  {
   "cell_type": "markdown",
   "metadata": {},
   "source": [
    "List = os.listdir('..\\\\mrlEyes_2018_01')"
   ]
  },
  {
   "cell_type": "markdown",
   "metadata": {},
   "source": [
    "for i in List[1:len(List)-1]:\n",
    "    data_list = os.listdir('..\\\\mrlEyes_2018_01'+'\\\\'+i)\n",
    "    for j in data_list:\n",
    "        if j[16]=='0':\n",
    "            shutil.copyfile('../mrlEyes_2018_01'+'/'+i+'/'+j,'D:/AIML/Project/Data/eyes_closed/'+j)\n",
    "        else:\n",
    "            shutil.copyfile('../mrlEyes_2018_01'+'/'+i+'/'+j,'D:/AIML/Project/Data/eyes_open/'+j)"
   ]
  },
  {
   "cell_type": "code",
   "execution_count": 1,
   "metadata": {},
   "outputs": [],
   "source": [
    "def split_data(SOURCE, TRAINING, TESTING, SPLIT_SIZE):\n",
    "    ls = os.listdir(SOURCE)\n",
    "    l = len(os.listdir(SOURCE))\n",
    "    for i,j in enumerate(ls):\n",
    "        if os.path.getsize(SOURCE+j)==0:\n",
    "            print(j+\"is zero length, so ignoring\")\n",
    "            continue\n",
    "        if i<l*SPLIT_SIZE:\n",
    "            shutil.copyfile(SOURCE+j,TRAINING+j)\n",
    "        else:\n",
    "            shutil.copyfile(SOURCE+j,TESTING+j)"
   ]
  },
  {
   "cell_type": "code",
   "execution_count": 4,
   "metadata": {},
   "outputs": [],
   "source": [
    "SOURCE = 'D:/AIML/train/Closed/'\n",
    "TRAINING = 'D:/AIML/Project/SleepData/Training/closed/'\n",
    "TESTING = 'D:/AIML/Project/SleepData/Testing/closed/'\n",
    "split_data(SOURCE, TRAINING, TESTING,0.8)\n",
    "SOURCE = 'D:/AIML/train/Open/'\n",
    "TRAINING = 'D:/AIML/Project/SleepData/Training/open/'\n",
    "TESTING = 'D:/AIML/Project/SleepData/Testing/open/'\n",
    "split_data(SOURCE, TRAINING, TESTING,0.8)"
   ]
  },
  {
   "cell_type": "code",
   "execution_count": 11,
   "metadata": {},
   "outputs": [],
   "source": [
    "error_list = []\n",
    "List = os.listdir('D:/AIML/Project/Data/Training/open/')\n",
    "for i in List:\n",
    "    j = mpimg.imread('D:/AIML/Project/Data/Training/open/'+i)\n",
    "    j = np.asarray(j)\n",
    "    if len(j.shape)==3:\n",
    "        error_list.append(i)"
   ]
  },
  {
   "cell_type": "code",
   "execution_count": 11,
   "metadata": {},
   "outputs": [],
   "source": [
    "from numpy import *\n",
    "import math as m"
   ]
  },
  {
   "cell_type": "code",
   "execution_count": 2,
   "metadata": {},
   "outputs": [],
   "source": [
    "a = zeros((3,3))"
   ]
  },
  {
   "cell_type": "code",
   "execution_count": 3,
   "metadata": {},
   "outputs": [],
   "source": [
    "b = ones((a.shape[0],1))"
   ]
  },
  {
   "cell_type": "code",
   "execution_count": 4,
   "metadata": {},
   "outputs": [],
   "source": [
    "c = hstack((b,a))"
   ]
  },
  {
   "cell_type": "code",
   "execution_count": 8,
   "metadata": {},
   "outputs": [],
   "source": [
    "d = array([c[:,0]]).T"
   ]
  },
  {
   "cell_type": "code",
   "execution_count": 52,
   "metadata": {},
   "outputs": [],
   "source": [
    "alpha = 10*math.pi/180\n",
    "e = 5*math.pi/180\n",
    "r = 4"
   ]
  },
  {
   "cell_type": "code",
   "execution_count": 53,
   "metadata": {},
   "outputs": [],
   "source": [
    "x = 4*m.cos(alpha)*m.cos(e)\n",
    "y = 4*m.sin(alpha)*m.cos(e)\n",
    "z = 4*m.sin(e)"
   ]
  },
  {
   "cell_type": "code",
   "execution_count": 54,
   "metadata": {},
   "outputs": [
    {
     "data": {
      "text/plain": [
       "(3.9242410487616275, 0.6919495757003578, 0.34862297099063266)"
      ]
     },
     "execution_count": 54,
     "metadata": {},
     "output_type": "execute_result"
    }
   ],
   "source": [
    "(x,y,z)"
   ]
  },
  {
   "cell_type": "code",
   "execution_count": 57,
   "metadata": {},
   "outputs": [
    {
     "data": {
      "text/plain": [
       "0.017453292519943295"
      ]
     },
     "execution_count": 57,
     "metadata": {},
     "output_type": "execute_result"
    }
   ],
   "source": [
    "pi/180"
   ]
  },
  {
   "cell_type": "code",
   "execution_count": 10,
   "metadata": {},
   "outputs": [
    {
     "data": {
      "text/plain": [
       "(3.92, 0.69, 0.34)"
      ]
     },
     "execution_count": 10,
     "metadata": {},
     "output_type": "execute_result"
    }
   ],
   "source": [
    "(3.92, 0.69, 0.34)\n"
   ]
  },
  {
   "cell_type": "code",
   "execution_count": 12,
   "metadata": {},
   "outputs": [],
   "source": [
    "def sph_to_cart(epsilon,alpha, r):\n",
    "    p = zeros(3)  # Position vector \n",
    "    t = pi/180\n",
    "  # Your code here\n",
    "    alpha = t*alpha\n",
    "    epsilon = t*epsilon\n",
    "    x = r*cos(alpha)*cos(epsilon)\n",
    "    y = r*sin(alpha)*cos(epsilon)\n",
    "    z = r*sin(epsilon)\n",
    "    p = array([[x,y,z]])\n",
    "    return p"
   ]
  },
  {
   "cell_type": "code",
   "execution_count": 13,
   "metadata": {},
   "outputs": [
    {
     "name": "stdout",
     "output_type": "stream",
     "text": [
      "[[3.92424105 0.69194958 0.34862297]]\n"
     ]
    }
   ],
   "source": [
    "epsilon = 5\n",
    "alpha = 10\n",
    "r = 4\n",
    "p = sph_to_cart(epsilon,alpha, r)\n",
    "print(p)"
   ]
  },
  {
   "cell_type": "code",
   "execution_count": 14,
   "metadata": {},
   "outputs": [],
   "source": [
    "def estimate_params(P):\n",
    "    \"\"\"\n",
    "    Estimate parameters from sensor readings in the Cartesian frame.\n",
    "    Each row in the P matrix contains a single 3D point measurement;\n",
    "    the matrix P has size n x 3 (for n points). The format is:\n",
    "  \n",
    "    P = [[x1, y1, z1],\n",
    "       [x2, x2, z2], ...]\n",
    "       \n",
    "    where all coordinate values are in metres. Three parameters are\n",
    "    required to fit the plane, a, b, and c, according to the equation\n",
    "  \n",
    "    z = a + bx + cy\n",
    "  \n",
    "    The function should retrn the parameters as a NumPy array of size\n",
    "    three, in the order [a, b, c].\n",
    "    \"\"\"\n",
    "    param_est = zeros(3)\n",
    "  \n",
    "    # Your code here\n",
    "    A = hstack((ones((P.shape[0],1)),P[:,:2]))\n",
    "    B = array([P[:,2]]).T\n",
    "  \n",
    "    param_est = dot(linalg.inv(A),B)\n",
    "    return param_est.T"
   ]
  },
  {
   "cell_type": "code",
   "execution_count": 19,
   "metadata": {},
   "outputs": [
    {
     "name": "stdout",
     "output_type": "stream",
     "text": [
      "[[1.04719755 0.         5.        ]\n",
      " [0.78539816 0.78539816 7.        ]\n",
      " [0.52359878 1.57079633 4.        ]\n",
      " [0.62831853 2.35619449 6.        ]\n",
      " [0.39269908 3.14159265 3.        ]]\n",
      "[[1.         1.04719755 0.        ]\n",
      " [1.         0.78539816 0.78539816]\n",
      " [1.         0.52359878 1.57079633]\n",
      " [1.         0.62831853 2.35619449]\n",
      " [1.         0.39269908 3.14159265]]\n",
      "[[5.]\n",
      " [7.]\n",
      " [4.]\n",
      " [6.]\n",
      " [3.]]\n"
     ]
    }
   ],
   "source": [
    "meas = np.array([[pi/3, 0, 5],\n",
    "                 [pi/4, pi/4, 7],\n",
    "                 [pi/6, pi/2, 4],\n",
    "                 [pi/5, 3*pi/4, 6],\n",
    "                 [pi/8, pi, 3]])\n",
    "\n",
    "print(meas)\n",
    "\n",
    "A = hstack((ones((meas.shape[0],1)),meas[:,:2]))\n",
    "print(A)\n",
    "B = array([meas[:,2]]).T\n",
    "print(B)"
   ]
  },
  {
   "cell_type": "code",
   "execution_count": 23,
   "metadata": {},
   "outputs": [
    {
     "name": "stderr",
     "output_type": "stream",
     "text": [
      "<ipython-input-23-18e95f0cc43c>:1: FutureWarning: `rcond` parameter will change to the default of machine precision times ``max(M, N)`` where M and N are the input matrix dimensions.\n",
      "To use the future default and silence this warning we advise to pass `rcond=None`, to keep using the old, explicitly pass `rcond=-1`.\n",
      "  solv = linalg.lstsq(A, B)\n"
     ]
    }
   ],
   "source": [
    "solv = linalg.lstsq(A, B)"
   ]
  },
  {
   "cell_type": "code",
   "execution_count": 27,
   "metadata": {},
   "outputs": [
    {
     "data": {
      "text/plain": [
       "array([2.25      , 3.87133645, 0.0860297 ])"
      ]
     },
     "execution_count": 27,
     "metadata": {},
     "output_type": "execute_result"
    }
   ],
   "source": [
    "solv[0].T.squeeze()"
   ]
  },
  {
   "cell_type": "code",
   "execution_count": null,
   "metadata": {},
   "outputs": [],
   "source": []
  }
 ],
 "metadata": {
  "kernelspec": {
   "display_name": "Python 3",
   "language": "python",
   "name": "python3"
  },
  "language_info": {
   "codemirror_mode": {
    "name": "ipython",
    "version": 3
   },
   "file_extension": ".py",
   "mimetype": "text/x-python",
   "name": "python",
   "nbconvert_exporter": "python",
   "pygments_lexer": "ipython3",
   "version": "3.8.3"
  }
 },
 "nbformat": 4,
 "nbformat_minor": 4
}
